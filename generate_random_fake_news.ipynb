{
 "cells": [
  {
   "cell_type": "code",
   "execution_count": 1,
   "metadata": {},
   "outputs": [
    {
     "name": "stdout",
     "output_type": "stream",
     "text": [
      "Controversial: Science discovers a breakthrough\n"
     ]
    }
   ],
   "source": [
    "import random\n",
    "\n",
    "def generate_fake_news():\n",
    "    prefixes = ['Breaking:', 'Exclusive:', 'Shocking:', 'Unbelievable:', 'Controversial:']\n",
    "    topics = ['Politics', 'Technology', 'Health', 'Entertainment', 'Science']\n",
    "    actions = ['reveals', 'discovers', 'confirms', 'denies', 'exposes']\n",
    "    objects = ['a new study', 'secret documents', 'alien life', 'a breakthrough', 'the truth']\n",
    "\n",
    "    title = f\"{random.choice(prefixes)} {random.choice(topics)} {random.choice(actions)} {random.choice(objects)}\"\n",
    "    return title\n",
    "\n",
    "# Example usage\n",
    "fake_news_title = generate_fake_news()\n",
    "print(fake_news_title)\n"
   ]
  }
 ],
 "metadata": {
  "kernelspec": {
   "display_name": "base",
   "language": "python",
   "name": "python3"
  },
  "language_info": {
   "codemirror_mode": {
    "name": "ipython",
    "version": 3
   },
   "file_extension": ".py",
   "mimetype": "text/x-python",
   "name": "python",
   "nbconvert_exporter": "python",
   "pygments_lexer": "ipython3",
   "version": "3.9.12"
  }
 },
 "nbformat": 4,
 "nbformat_minor": 2
}
